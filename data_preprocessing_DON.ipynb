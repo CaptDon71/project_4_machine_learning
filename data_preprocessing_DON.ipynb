{
  "nbformat": 4,
  "nbformat_minor": 0,
  "metadata": {
    "colab": {
      "provenance": []
    },
    "kernelspec": {
      "name": "python3",
      "display_name": "Python 3"
    },
    "language_info": {
      "name": "python"
    }
  },
  "cells": [
    {
      "cell_type": "code",
      "execution_count": null,
      "metadata": {
        "id": "vAkzOdQen4-5"
      },
      "outputs": [],
      "source": [
        "import pandas as pd\n",
        "import numpy as np\n",
        "import io\n",
        "import tensorflow as tf\n",
        "from tensorflow import keras\n",
        "from sklearn.model_selection import train_test_split\n",
        "from sklearn.preprocessing import StandardScaler, MinMaxScaler\n",
        "from sklearn.metrics import mean_absolute_error, mean_squared_error, r2_score"
      ]
    },
    {
      "cell_type": "code",
      "source": [
        "from google.colab import files\n",
        "uploaded = files.upload()"
      ],
      "metadata": {
        "colab": {
          "base_uri": "https://localhost:8080/",
          "height": 73
        },
        "id": "lJVlueFGof2D",
        "outputId": "96c20832-3002-49e3-ba79-2d6de99d3511"
      },
      "execution_count": null,
      "outputs": [
        {
          "output_type": "display_data",
          "data": {
            "text/plain": [
              "<IPython.core.display.HTML object>"
            ],
            "text/html": [
              "\n",
              "     <input type=\"file\" id=\"files-fa9cc28d-66a0-49cb-8cf4-a8d5a35c8ed6\" name=\"files[]\" multiple disabled\n",
              "        style=\"border:none\" />\n",
              "     <output id=\"result-fa9cc28d-66a0-49cb-8cf4-a8d5a35c8ed6\">\n",
              "      Upload widget is only available when the cell has been executed in the\n",
              "      current browser session. Please rerun this cell to enable.\n",
              "      </output>\n",
              "      <script>// Copyright 2017 Google LLC\n",
              "//\n",
              "// Licensed under the Apache License, Version 2.0 (the \"License\");\n",
              "// you may not use this file except in compliance with the License.\n",
              "// You may obtain a copy of the License at\n",
              "//\n",
              "//      http://www.apache.org/licenses/LICENSE-2.0\n",
              "//\n",
              "// Unless required by applicable law or agreed to in writing, software\n",
              "// distributed under the License is distributed on an \"AS IS\" BASIS,\n",
              "// WITHOUT WARRANTIES OR CONDITIONS OF ANY KIND, either express or implied.\n",
              "// See the License for the specific language governing permissions and\n",
              "// limitations under the License.\n",
              "\n",
              "/**\n",
              " * @fileoverview Helpers for google.colab Python module.\n",
              " */\n",
              "(function(scope) {\n",
              "function span(text, styleAttributes = {}) {\n",
              "  const element = document.createElement('span');\n",
              "  element.textContent = text;\n",
              "  for (const key of Object.keys(styleAttributes)) {\n",
              "    element.style[key] = styleAttributes[key];\n",
              "  }\n",
              "  return element;\n",
              "}\n",
              "\n",
              "// Max number of bytes which will be uploaded at a time.\n",
              "const MAX_PAYLOAD_SIZE = 100 * 1024;\n",
              "\n",
              "function _uploadFiles(inputId, outputId) {\n",
              "  const steps = uploadFilesStep(inputId, outputId);\n",
              "  const outputElement = document.getElementById(outputId);\n",
              "  // Cache steps on the outputElement to make it available for the next call\n",
              "  // to uploadFilesContinue from Python.\n",
              "  outputElement.steps = steps;\n",
              "\n",
              "  return _uploadFilesContinue(outputId);\n",
              "}\n",
              "\n",
              "// This is roughly an async generator (not supported in the browser yet),\n",
              "// where there are multiple asynchronous steps and the Python side is going\n",
              "// to poll for completion of each step.\n",
              "// This uses a Promise to block the python side on completion of each step,\n",
              "// then passes the result of the previous step as the input to the next step.\n",
              "function _uploadFilesContinue(outputId) {\n",
              "  const outputElement = document.getElementById(outputId);\n",
              "  const steps = outputElement.steps;\n",
              "\n",
              "  const next = steps.next(outputElement.lastPromiseValue);\n",
              "  return Promise.resolve(next.value.promise).then((value) => {\n",
              "    // Cache the last promise value to make it available to the next\n",
              "    // step of the generator.\n",
              "    outputElement.lastPromiseValue = value;\n",
              "    return next.value.response;\n",
              "  });\n",
              "}\n",
              "\n",
              "/**\n",
              " * Generator function which is called between each async step of the upload\n",
              " * process.\n",
              " * @param {string} inputId Element ID of the input file picker element.\n",
              " * @param {string} outputId Element ID of the output display.\n",
              " * @return {!Iterable<!Object>} Iterable of next steps.\n",
              " */\n",
              "function* uploadFilesStep(inputId, outputId) {\n",
              "  const inputElement = document.getElementById(inputId);\n",
              "  inputElement.disabled = false;\n",
              "\n",
              "  const outputElement = document.getElementById(outputId);\n",
              "  outputElement.innerHTML = '';\n",
              "\n",
              "  const pickedPromise = new Promise((resolve) => {\n",
              "    inputElement.addEventListener('change', (e) => {\n",
              "      resolve(e.target.files);\n",
              "    });\n",
              "  });\n",
              "\n",
              "  const cancel = document.createElement('button');\n",
              "  inputElement.parentElement.appendChild(cancel);\n",
              "  cancel.textContent = 'Cancel upload';\n",
              "  const cancelPromise = new Promise((resolve) => {\n",
              "    cancel.onclick = () => {\n",
              "      resolve(null);\n",
              "    };\n",
              "  });\n",
              "\n",
              "  // Wait for the user to pick the files.\n",
              "  const files = yield {\n",
              "    promise: Promise.race([pickedPromise, cancelPromise]),\n",
              "    response: {\n",
              "      action: 'starting',\n",
              "    }\n",
              "  };\n",
              "\n",
              "  cancel.remove();\n",
              "\n",
              "  // Disable the input element since further picks are not allowed.\n",
              "  inputElement.disabled = true;\n",
              "\n",
              "  if (!files) {\n",
              "    return {\n",
              "      response: {\n",
              "        action: 'complete',\n",
              "      }\n",
              "    };\n",
              "  }\n",
              "\n",
              "  for (const file of files) {\n",
              "    const li = document.createElement('li');\n",
              "    li.append(span(file.name, {fontWeight: 'bold'}));\n",
              "    li.append(span(\n",
              "        `(${file.type || 'n/a'}) - ${file.size} bytes, ` +\n",
              "        `last modified: ${\n",
              "            file.lastModifiedDate ? file.lastModifiedDate.toLocaleDateString() :\n",
              "                                    'n/a'} - `));\n",
              "    const percent = span('0% done');\n",
              "    li.appendChild(percent);\n",
              "\n",
              "    outputElement.appendChild(li);\n",
              "\n",
              "    const fileDataPromise = new Promise((resolve) => {\n",
              "      const reader = new FileReader();\n",
              "      reader.onload = (e) => {\n",
              "        resolve(e.target.result);\n",
              "      };\n",
              "      reader.readAsArrayBuffer(file);\n",
              "    });\n",
              "    // Wait for the data to be ready.\n",
              "    let fileData = yield {\n",
              "      promise: fileDataPromise,\n",
              "      response: {\n",
              "        action: 'continue',\n",
              "      }\n",
              "    };\n",
              "\n",
              "    // Use a chunked sending to avoid message size limits. See b/62115660.\n",
              "    let position = 0;\n",
              "    do {\n",
              "      const length = Math.min(fileData.byteLength - position, MAX_PAYLOAD_SIZE);\n",
              "      const chunk = new Uint8Array(fileData, position, length);\n",
              "      position += length;\n",
              "\n",
              "      const base64 = btoa(String.fromCharCode.apply(null, chunk));\n",
              "      yield {\n",
              "        response: {\n",
              "          action: 'append',\n",
              "          file: file.name,\n",
              "          data: base64,\n",
              "        },\n",
              "      };\n",
              "\n",
              "      let percentDone = fileData.byteLength === 0 ?\n",
              "          100 :\n",
              "          Math.round((position / fileData.byteLength) * 100);\n",
              "      percent.textContent = `${percentDone}% done`;\n",
              "\n",
              "    } while (position < fileData.byteLength);\n",
              "  }\n",
              "\n",
              "  // All done.\n",
              "  yield {\n",
              "    response: {\n",
              "      action: 'complete',\n",
              "    }\n",
              "  };\n",
              "}\n",
              "\n",
              "scope.google = scope.google || {};\n",
              "scope.google.colab = scope.google.colab || {};\n",
              "scope.google.colab._files = {\n",
              "  _uploadFiles,\n",
              "  _uploadFilesContinue,\n",
              "};\n",
              "})(self);\n",
              "</script> "
            ]
          },
          "metadata": {}
        },
        {
          "output_type": "stream",
          "name": "stdout",
          "text": [
            "Saving global_warming_dataset.csv to global_warming_dataset.csv\n"
          ]
        }
      ]
    },
    {
      "cell_type": "code",
      "source": [
        "gw_df = pd.read_csv(io.BytesIO(uploaded['global_warming_dataset.csv']))\n",
        "print(gw_df.head())\n",
        "\n",
        "# Data Cleaning: Drop duplicates and handle missing values\n",
        "gw_df = gw_df.drop_duplicates().dropna()"
      ],
      "metadata": {
        "colab": {
          "base_uri": "https://localhost:8080/"
        },
        "id": "ASbX88gMojw7",
        "outputId": "437b00fb-2e81-46fc-e053-8ae3107e2690"
      },
      "execution_count": null,
      "outputs": [
        {
          "output_type": "stream",
          "name": "stdout",
          "text": [
            "       Country  Year  Temperature_Anomaly  CO2_Emissions    Population  \\\n",
            "0  Country_103  1913            -1.163537   8.876061e+08  1.627978e+08   \n",
            "1  Country_180  1950            -0.432122   4.497517e+08  4.281359e+08   \n",
            "2   Country_93  2014             0.444954   4.579080e+08  4.926732e+08   \n",
            "3   Country_15  2020            -1.171616   5.049503e+08  1.252169e+09   \n",
            "4  Country_107  1964            -0.564038   6.898891e+08  2.932960e+08   \n",
            "\n",
            "   Forest_Area           GDP  Renewable_Energy_Usage  Methane_Emissions  \\\n",
            "0    54.872178  6.139887e+12               76.710013       8.317626e+06   \n",
            "1    84.051006  2.601447e+12               68.450021       6.206540e+06   \n",
            "2    72.295357  5.192677e+12               36.725699       1.056885e+06   \n",
            "3    17.259684  8.252128e+12               77.547901       1.986813e+06   \n",
            "4    44.438605  8.560746e+12               10.019576       3.313252e+06   \n",
            "\n",
            "   Sea_Level_Rise  ...  Waste_Management  Per_Capita_Emissions  \\\n",
            "0        8.111839  ...         82.691409              2.285351   \n",
            "1       42.025915  ...         59.322883             17.411668   \n",
            "2       20.953840  ...         94.982931             12.039703   \n",
            "3       45.599595  ...         62.064250              2.853957   \n",
            "4        7.652150  ...         84.431279             19.801173   \n",
            "\n",
            "   Industrial_Activity  Air_Pollution_Index  Biodiversity_Index  \\\n",
            "0             4.060975           150.285539           90.073356   \n",
            "1            85.300604            27.305922           88.289837   \n",
            "2            83.804880           216.911429           86.936256   \n",
            "3            47.014265            35.869182           44.904331   \n",
            "4            89.379613           284.263093            8.102916   \n",
            "\n",
            "   Ocean_Acidification  Fossil_Fuel_Usage  Energy_Consumption_Per_Capita  \\\n",
            "0             8.025470          39.163860                    1480.164332   \n",
            "1             8.021719          28.252554                    1482.730048   \n",
            "2             7.647408          61.548382                     706.918809   \n",
            "3             7.569353          82.423750                    2616.238324   \n",
            "4             8.015415          29.964450                    4975.683780   \n",
            "\n",
            "   Policy_Score  Average_Temperature  \n",
            "0     78.870012            20.825292  \n",
            "1     32.600905            28.720587  \n",
            "2     37.671300            15.014084  \n",
            "3     86.581725            -1.277086  \n",
            "4     20.618406             2.861989  \n",
            "\n",
            "[5 rows x 26 columns]\n"
          ]
        }
      ]
    },
    {
      "cell_type": "code",
      "source": [
        "# Feature Selection and Normalization\n",
        "X = gw_df.drop(columns=['Average_Temperature', 'Country', 'Year'])  # Features, drop non-numerical columns\n",
        "y = gw_df['Average_Temperature']  # Target variable\n",
        "\n",
        "# Normalize numerical features\n",
        "scaler = MinMaxScaler()\n",
        "X_scaled = scaler.fit_transform(X)\n",
        "\n",
        "# Standardize the features\n",
        "std_scaler = StandardScaler()\n",
        "X_standardized = std_scaler.fit_transform(X_scaled)\n",
        "\n",
        "# Standardize target variable\n",
        "y = (y - y.mean()) / y.std()\n",
        "\n",
        "# Split the data into training and testing sets\n",
        "X_train, X_test, y_train, y_test = train_test_split(X_standardized, y, test_size=0.2, random_state=42)\n",
        "\n",
        "# Build the TensorFlow model\n",
        "model = keras.Sequential([\n",
        "    keras.layers.Dense(128, activation='relu', input_shape=(X_train.shape[1],)),\n",
        "    keras.layers.BatchNormalization(),\n",
        "    keras.layers.Dense(64, activation='relu'),\n",
        "    keras.layers.BatchNormalization(),\n",
        "    keras.layers.Dense(32, activation='relu'),\n",
        "    keras.layers.Dense(1)  # Output layer for regression\n",
        "])\n",
        "\n",
        "# Compile the model with a lower learning rate and different loss function\n",
        "model.compile(optimizer=keras.optimizers.Adam(learning_rate=0.001), loss='msle', metrics=['mae'])\n",
        "\n",
        "# Train the model\n",
        "history = model.fit(X_train, y_train, epochs=50, batch_size=16, validation_data=(X_test, y_test), verbose=1)\n",
        "\n",
        "# Evaluate the model\n",
        "y_pred = model.predict(X_test)\n",
        "mae = mean_absolute_error(y_test, y_pred)\n",
        "mse = mean_squared_error(y_test, y_pred)\n",
        "rmse = np.sqrt(mse)\n",
        "r2 = r2_score(y_test, y_pred)\n",
        "\n",
        "print(f\"Model Evaluation:\\nMAE: {mae}\\nMSE: {mse}\\nRMSE: {rmse}\\nR2 Score: {r2}\")\n",
        "\n"
      ],
      "metadata": {
        "colab": {
          "base_uri": "https://localhost:8080/"
        },
        "id": "Kh_yU4wqojtb",
        "outputId": "1cb9af1c-e82c-48ea-88be-59beb4b8f785"
      },
      "execution_count": null,
      "outputs": [
        {
          "output_type": "stream",
          "name": "stdout",
          "text": [
            "Epoch 1/50\n"
          ]
        },
        {
          "output_type": "stream",
          "name": "stderr",
          "text": [
            "/usr/local/lib/python3.11/dist-packages/keras/src/layers/core/dense.py:87: UserWarning: Do not pass an `input_shape`/`input_dim` argument to a layer. When using Sequential models, prefer using an `Input(shape)` object as the first layer in the model instead.\n",
            "  super().__init__(activity_regularizer=activity_regularizer, **kwargs)\n"
          ]
        },
        {
          "output_type": "stream",
          "name": "stdout",
          "text": [
            "\u001b[1m5000/5000\u001b[0m \u001b[32m━━━━━━━━━━━━━━━━━━━━\u001b[0m\u001b[37m\u001b[0m \u001b[1m21s\u001b[0m 4ms/step - loss: 0.1692 - mae: 0.9768 - val_loss: 0.1272 - val_mae: 0.8984\n",
            "Epoch 2/50\n",
            "\u001b[1m5000/5000\u001b[0m \u001b[32m━━━━━━━━━━━━━━━━━━━━\u001b[0m\u001b[37m\u001b[0m \u001b[1m21s\u001b[0m 4ms/step - loss: 0.1256 - mae: 0.9006 - val_loss: 0.1267 - val_mae: 0.8966\n",
            "Epoch 3/50\n",
            "\u001b[1m5000/5000\u001b[0m \u001b[32m━━━━━━━━━━━━━━━━━━━━\u001b[0m\u001b[37m\u001b[0m \u001b[1m20s\u001b[0m 4ms/step - loss: 0.1254 - mae: 0.8995 - val_loss: 0.1265 - val_mae: 0.8968\n",
            "Epoch 4/50\n",
            "\u001b[1m5000/5000\u001b[0m \u001b[32m━━━━━━━━━━━━━━━━━━━━\u001b[0m\u001b[37m\u001b[0m \u001b[1m24s\u001b[0m 4ms/step - loss: 0.1262 - mae: 0.8987 - val_loss: 0.1263 - val_mae: 0.8967\n",
            "Epoch 5/50\n",
            "\u001b[1m5000/5000\u001b[0m \u001b[32m━━━━━━━━━━━━━━━━━━━━\u001b[0m\u001b[37m\u001b[0m \u001b[1m42s\u001b[0m 5ms/step - loss: 0.1264 - mae: 0.9019 - val_loss: 0.1263 - val_mae: 0.8977\n",
            "Epoch 6/50\n",
            "\u001b[1m5000/5000\u001b[0m \u001b[32m━━━━━━━━━━━━━━━━━━━━\u001b[0m\u001b[37m\u001b[0m \u001b[1m19s\u001b[0m 4ms/step - loss: 0.1258 - mae: 0.9008 - val_loss: 0.1263 - val_mae: 0.8960\n",
            "Epoch 7/50\n",
            "\u001b[1m5000/5000\u001b[0m \u001b[32m━━━━━━━━━━━━━━━━━━━━\u001b[0m\u001b[37m\u001b[0m \u001b[1m18s\u001b[0m 4ms/step - loss: 0.1257 - mae: 0.9016 - val_loss: 0.1264 - val_mae: 0.8955\n",
            "Epoch 8/50\n",
            "\u001b[1m5000/5000\u001b[0m \u001b[32m━━━━━━━━━━━━━━━━━━━━\u001b[0m\u001b[37m\u001b[0m \u001b[1m22s\u001b[0m 4ms/step - loss: 0.1256 - mae: 0.8985 - val_loss: 0.1263 - val_mae: 0.8973\n",
            "Epoch 9/50\n",
            "\u001b[1m5000/5000\u001b[0m \u001b[32m━━━━━━━━━━━━━━━━━━━━\u001b[0m\u001b[37m\u001b[0m \u001b[1m19s\u001b[0m 4ms/step - loss: 0.1257 - mae: 0.9022 - val_loss: 0.1264 - val_mae: 0.8949\n",
            "Epoch 10/50\n",
            "\u001b[1m5000/5000\u001b[0m \u001b[32m━━━━━━━━━━━━━━━━━━━━\u001b[0m\u001b[37m\u001b[0m \u001b[1m21s\u001b[0m 4ms/step - loss: 0.1256 - mae: 0.9012 - val_loss: 0.1265 - val_mae: 0.8957\n",
            "Epoch 11/50\n",
            "\u001b[1m5000/5000\u001b[0m \u001b[32m━━━━━━━━━━━━━━━━━━━━\u001b[0m\u001b[37m\u001b[0m \u001b[1m41s\u001b[0m 4ms/step - loss: 0.1256 - mae: 0.8977 - val_loss: 0.1267 - val_mae: 0.8941\n",
            "Epoch 12/50\n",
            "\u001b[1m5000/5000\u001b[0m \u001b[32m━━━━━━━━━━━━━━━━━━━━\u001b[0m\u001b[37m\u001b[0m \u001b[1m19s\u001b[0m 4ms/step - loss: 0.1252 - mae: 0.8967 - val_loss: 0.1264 - val_mae: 0.8961\n",
            "Epoch 13/50\n",
            "\u001b[1m5000/5000\u001b[0m \u001b[32m━━━━━━━━━━━━━━━━━━━━\u001b[0m\u001b[37m\u001b[0m \u001b[1m19s\u001b[0m 4ms/step - loss: 0.1265 - mae: 0.9027 - val_loss: 0.1266 - val_mae: 0.8942\n",
            "Epoch 14/50\n",
            "\u001b[1m5000/5000\u001b[0m \u001b[32m━━━━━━━━━━━━━━━━━━━━\u001b[0m\u001b[37m\u001b[0m \u001b[1m22s\u001b[0m 4ms/step - loss: 0.1249 - mae: 0.8991 - val_loss: 0.1266 - val_mae: 0.8952\n",
            "Epoch 15/50\n",
            "\u001b[1m5000/5000\u001b[0m \u001b[32m━━━━━━━━━━━━━━━━━━━━\u001b[0m\u001b[37m\u001b[0m \u001b[1m18s\u001b[0m 4ms/step - loss: 0.1253 - mae: 0.8993 - val_loss: 0.1267 - val_mae: 0.8956\n",
            "Epoch 16/50\n",
            "\u001b[1m5000/5000\u001b[0m \u001b[32m━━━━━━━━━━━━━━━━━━━━\u001b[0m\u001b[37m\u001b[0m \u001b[1m22s\u001b[0m 4ms/step - loss: 0.1255 - mae: 0.9007 - val_loss: 0.1267 - val_mae: 0.8964\n",
            "Epoch 17/50\n",
            "\u001b[1m5000/5000\u001b[0m \u001b[32m━━━━━━━━━━━━━━━━━━━━\u001b[0m\u001b[37m\u001b[0m \u001b[1m19s\u001b[0m 4ms/step - loss: 0.1242 - mae: 0.8974 - val_loss: 0.1268 - val_mae: 0.8957\n",
            "Epoch 18/50\n",
            "\u001b[1m5000/5000\u001b[0m \u001b[32m━━━━━━━━━━━━━━━━━━━━\u001b[0m\u001b[37m\u001b[0m \u001b[1m19s\u001b[0m 4ms/step - loss: 0.1253 - mae: 0.8977 - val_loss: 0.1267 - val_mae: 0.8984\n",
            "Epoch 19/50\n",
            "\u001b[1m5000/5000\u001b[0m \u001b[32m━━━━━━━━━━━━━━━━━━━━\u001b[0m\u001b[37m\u001b[0m \u001b[1m22s\u001b[0m 4ms/step - loss: 0.1249 - mae: 0.8974 - val_loss: 0.1266 - val_mae: 0.8955\n",
            "Epoch 20/50\n",
            "\u001b[1m5000/5000\u001b[0m \u001b[32m━━━━━━━━━━━━━━━━━━━━\u001b[0m\u001b[37m\u001b[0m \u001b[1m41s\u001b[0m 4ms/step - loss: 0.1251 - mae: 0.8962 - val_loss: 0.1270 - val_mae: 0.8965\n",
            "Epoch 21/50\n",
            "\u001b[1m5000/5000\u001b[0m \u001b[32m━━━━━━━━━━━━━━━━━━━━\u001b[0m\u001b[37m\u001b[0m \u001b[1m41s\u001b[0m 4ms/step - loss: 0.1249 - mae: 0.8993 - val_loss: 0.1268 - val_mae: 0.8954\n",
            "Epoch 22/50\n",
            "\u001b[1m5000/5000\u001b[0m \u001b[32m━━━━━━━━━━━━━━━━━━━━\u001b[0m\u001b[37m\u001b[0m \u001b[1m22s\u001b[0m 4ms/step - loss: 0.1244 - mae: 0.8987 - val_loss: 0.1265 - val_mae: 0.8962\n",
            "Epoch 23/50\n",
            "\u001b[1m5000/5000\u001b[0m \u001b[32m━━━━━━━━━━━━━━━━━━━━\u001b[0m\u001b[37m\u001b[0m \u001b[1m37s\u001b[0m 4ms/step - loss: 0.1249 - mae: 0.8959 - val_loss: 0.1271 - val_mae: 0.8966\n",
            "Epoch 24/50\n",
            "\u001b[1m5000/5000\u001b[0m \u001b[32m━━━━━━━━━━━━━━━━━━━━\u001b[0m\u001b[37m\u001b[0m \u001b[1m24s\u001b[0m 4ms/step - loss: 0.1249 - mae: 0.8985 - val_loss: 0.1267 - val_mae: 0.8940\n",
            "Epoch 25/50\n",
            "\u001b[1m5000/5000\u001b[0m \u001b[32m━━━━━━━━━━━━━━━━━━━━\u001b[0m\u001b[37m\u001b[0m \u001b[1m41s\u001b[0m 4ms/step - loss: 0.1249 - mae: 0.8965 - val_loss: 0.1268 - val_mae: 0.8987\n",
            "Epoch 26/50\n",
            "\u001b[1m5000/5000\u001b[0m \u001b[32m━━━━━━━━━━━━━━━━━━━━\u001b[0m\u001b[37m\u001b[0m \u001b[1m18s\u001b[0m 4ms/step - loss: 0.1249 - mae: 0.8973 - val_loss: 0.1268 - val_mae: 0.8961\n",
            "Epoch 27/50\n",
            "\u001b[1m5000/5000\u001b[0m \u001b[32m━━━━━━━━━━━━━━━━━━━━\u001b[0m\u001b[37m\u001b[0m \u001b[1m24s\u001b[0m 4ms/step - loss: 0.1249 - mae: 0.8973 - val_loss: 0.1270 - val_mae: 0.8962\n",
            "Epoch 28/50\n",
            "\u001b[1m5000/5000\u001b[0m \u001b[32m━━━━━━━━━━━━━━━━━━━━\u001b[0m\u001b[37m\u001b[0m \u001b[1m39s\u001b[0m 4ms/step - loss: 0.1244 - mae: 0.8969 - val_loss: 0.1278 - val_mae: 0.8947\n",
            "Epoch 29/50\n",
            "\u001b[1m5000/5000\u001b[0m \u001b[32m━━━━━━━━━━━━━━━━━━━━\u001b[0m\u001b[37m\u001b[0m \u001b[1m19s\u001b[0m 4ms/step - loss: 0.1246 - mae: 0.8956 - val_loss: 0.1281 - val_mae: 0.8948\n",
            "Epoch 30/50\n",
            "\u001b[1m5000/5000\u001b[0m \u001b[32m━━━━━━━━━━━━━━━━━━━━\u001b[0m\u001b[37m\u001b[0m \u001b[1m22s\u001b[0m 4ms/step - loss: 0.1229 - mae: 0.8917 - val_loss: 0.1275 - val_mae: 0.8966\n",
            "Epoch 31/50\n",
            "\u001b[1m5000/5000\u001b[0m \u001b[32m━━━━━━━━━━━━━━━━━━━━\u001b[0m\u001b[37m\u001b[0m \u001b[1m39s\u001b[0m 4ms/step - loss: 0.1237 - mae: 0.8951 - val_loss: 0.1279 - val_mae: 0.8947\n",
            "Epoch 32/50\n",
            "\u001b[1m5000/5000\u001b[0m \u001b[32m━━━━━━━━━━━━━━━━━━━━\u001b[0m\u001b[37m\u001b[0m \u001b[1m21s\u001b[0m 4ms/step - loss: 0.1230 - mae: 0.8948 - val_loss: 0.1276 - val_mae: 0.8981\n",
            "Epoch 33/50\n",
            "\u001b[1m5000/5000\u001b[0m \u001b[32m━━━━━━━━━━━━━━━━━━━━\u001b[0m\u001b[37m\u001b[0m \u001b[1m19s\u001b[0m 4ms/step - loss: 0.1229 - mae: 0.8924 - val_loss: 0.1278 - val_mae: 0.8985\n",
            "Epoch 34/50\n",
            "\u001b[1m5000/5000\u001b[0m \u001b[32m━━━━━━━━━━━━━━━━━━━━\u001b[0m\u001b[37m\u001b[0m \u001b[1m19s\u001b[0m 4ms/step - loss: 0.1234 - mae: 0.8911 - val_loss: 0.1281 - val_mae: 0.9009\n",
            "Epoch 35/50\n",
            "\u001b[1m5000/5000\u001b[0m \u001b[32m━━━━━━━━━━━━━━━━━━━━\u001b[0m\u001b[37m\u001b[0m \u001b[1m20s\u001b[0m 4ms/step - loss: 0.1233 - mae: 0.8948 - val_loss: 0.1275 - val_mae: 0.8987\n",
            "Epoch 36/50\n",
            "\u001b[1m5000/5000\u001b[0m \u001b[32m━━━━━━━━━━━━━━━━━━━━\u001b[0m\u001b[37m\u001b[0m \u001b[1m19s\u001b[0m 4ms/step - loss: 0.1237 - mae: 0.8927 - val_loss: 0.1280 - val_mae: 0.8989\n",
            "Epoch 37/50\n",
            "\u001b[1m5000/5000\u001b[0m \u001b[32m━━━━━━━━━━━━━━━━━━━━\u001b[0m\u001b[37m\u001b[0m \u001b[1m21s\u001b[0m 4ms/step - loss: 0.1225 - mae: 0.8881 - val_loss: 0.1276 - val_mae: 0.8959\n",
            "Epoch 38/50\n",
            "\u001b[1m5000/5000\u001b[0m \u001b[32m━━━━━━━━━━━━━━━━━━━━\u001b[0m\u001b[37m\u001b[0m \u001b[1m18s\u001b[0m 4ms/step - loss: 0.1231 - mae: 0.8939 - val_loss: 0.1277 - val_mae: 0.8973\n",
            "Epoch 39/50\n",
            "\u001b[1m5000/5000\u001b[0m \u001b[32m━━━━━━━━━━━━━━━━━━━━\u001b[0m\u001b[37m\u001b[0m \u001b[1m24s\u001b[0m 4ms/step - loss: 0.1231 - mae: 0.8933 - val_loss: 0.1278 - val_mae: 0.8978\n",
            "Epoch 40/50\n",
            "\u001b[1m5000/5000\u001b[0m \u001b[32m━━━━━━━━━━━━━━━━━━━━\u001b[0m\u001b[37m\u001b[0m \u001b[1m38s\u001b[0m 4ms/step - loss: 0.1228 - mae: 0.8936 - val_loss: 0.1281 - val_mae: 0.8994\n",
            "Epoch 41/50\n",
            "\u001b[1m5000/5000\u001b[0m \u001b[32m━━━━━━━━━━━━━━━━━━━━\u001b[0m\u001b[37m\u001b[0m \u001b[1m20s\u001b[0m 4ms/step - loss: 0.1230 - mae: 0.8941 - val_loss: 0.1271 - val_mae: 0.8946\n",
            "Epoch 42/50\n",
            "\u001b[1m5000/5000\u001b[0m \u001b[32m━━━━━━━━━━━━━━━━━━━━\u001b[0m\u001b[37m\u001b[0m \u001b[1m19s\u001b[0m 4ms/step - loss: 0.1231 - mae: 0.8942 - val_loss: 0.1295 - val_mae: 0.8990\n",
            "Epoch 43/50\n",
            "\u001b[1m5000/5000\u001b[0m \u001b[32m━━━━━━━━━━━━━━━━━━━━\u001b[0m\u001b[37m\u001b[0m \u001b[1m18s\u001b[0m 4ms/step - loss: 0.1223 - mae: 0.8875 - val_loss: 0.1284 - val_mae: 0.8976\n",
            "Epoch 44/50\n",
            "\u001b[1m5000/5000\u001b[0m \u001b[32m━━━━━━━━━━━━━━━━━━━━\u001b[0m\u001b[37m\u001b[0m \u001b[1m21s\u001b[0m 4ms/step - loss: 0.1227 - mae: 0.8877 - val_loss: 0.1282 - val_mae: 0.8947\n",
            "Epoch 45/50\n",
            "\u001b[1m5000/5000\u001b[0m \u001b[32m━━━━━━━━━━━━━━━━━━━━\u001b[0m\u001b[37m\u001b[0m \u001b[1m20s\u001b[0m 4ms/step - loss: 0.1224 - mae: 0.8940 - val_loss: 0.1295 - val_mae: 0.8964\n",
            "Epoch 46/50\n",
            "\u001b[1m5000/5000\u001b[0m \u001b[32m━━━━━━━━━━━━━━━━━━━━\u001b[0m\u001b[37m\u001b[0m \u001b[1m21s\u001b[0m 4ms/step - loss: 0.1226 - mae: 0.8915 - val_loss: 0.1293 - val_mae: 0.8989\n",
            "Epoch 47/50\n",
            "\u001b[1m5000/5000\u001b[0m \u001b[32m━━━━━━━━━━━━━━━━━━━━\u001b[0m\u001b[37m\u001b[0m \u001b[1m20s\u001b[0m 4ms/step - loss: 0.1237 - mae: 0.8944 - val_loss: 0.1296 - val_mae: 0.8990\n",
            "Epoch 48/50\n",
            "\u001b[1m5000/5000\u001b[0m \u001b[32m━━━━━━━━━━━━━━━━━━━━\u001b[0m\u001b[37m\u001b[0m \u001b[1m22s\u001b[0m 4ms/step - loss: 0.1224 - mae: 0.8931 - val_loss: 0.1290 - val_mae: 0.8990\n",
            "Epoch 49/50\n",
            "\u001b[1m5000/5000\u001b[0m \u001b[32m━━━━━━━━━━━━━━━━━━━━\u001b[0m\u001b[37m\u001b[0m \u001b[1m39s\u001b[0m 4ms/step - loss: 0.1217 - mae: 0.8886 - val_loss: 0.1292 - val_mae: 0.8984\n",
            "Epoch 50/50\n",
            "\u001b[1m5000/5000\u001b[0m \u001b[32m━━━━━━━━━━━━━━━━━━━━\u001b[0m\u001b[37m\u001b[0m \u001b[1m19s\u001b[0m 4ms/step - loss: 0.1219 - mae: 0.8886 - val_loss: 0.1292 - val_mae: 0.8942\n",
            "\u001b[1m625/625\u001b[0m \u001b[32m━━━━━━━━━━━━━━━━━━━━\u001b[0m\u001b[37m\u001b[0m \u001b[1m1s\u001b[0m 2ms/step\n",
            "Model Evaluation:\n",
            "MAE: 0.8942106252908308\n",
            "MSE: 1.1008418301369636\n",
            "RMSE: 1.049210098186709\n",
            "R2 Score: -0.10067119564095117\n"
          ]
        }
      ]
    },
    {
      "cell_type": "code",
      "source": [
        "# Evaluate the model using the test data\n",
        "model_loss, model_accuracy = model.evaluate(X_test, y_test, verbose=2)\n",
        "print(f\"Loss: {model_loss}, Accuracy: {model_accuracy}\")"
      ],
      "metadata": {
        "colab": {
          "base_uri": "https://localhost:8080/"
        },
        "id": "L8XyOV3Pv1gB",
        "outputId": "156807b7-eeef-4bc4-8e28-858ee03e78e6"
      },
      "execution_count": null,
      "outputs": [
        {
          "output_type": "stream",
          "name": "stdout",
          "text": [
            "625/625 - 1s - 2ms/step - loss: 0.1292 - mae: 0.8942\n",
            "Loss: 0.1292208731174469, Accuracy: 0.8942106366157532\n"
          ]
        }
      ]
    },
    {
      "cell_type": "markdown",
      "source": [
        "How do extreme weather events correlate with global warming indicators?"
      ],
      "metadata": {
        "id": "yo7LG3-M7S6p"
      }
    },
    {
      "cell_type": "code",
      "source": [
        "corr = df.corr()\n",
        "plt.figure(figsize=(8,6))\n",
        "sns.heatmap(corr, annot=True, cmap='coolwarm', fmt=\".2f\")\n",
        "plt.title(\"Correlation Between Extreme Weather & Global Warming Indicators\")\n",
        "plt.show()"
      ],
      "metadata": {
        "id": "B-hipOYJ7QwB"
      },
      "execution_count": null,
      "outputs": []
    },
    {
      "cell_type": "markdown",
      "source": [
        " Can anomaly detection techniques help identify outliers in CO2 emissions and weather patterns?"
      ],
      "metadata": {
        "id": "1d0yNq1-7TQp"
      }
    },
    {
      "cell_type": "code",
      "source": [
        "# Train anomaly detection model\n",
        "model = IsolationForest(contamination=0.05)\n",
        "df['Anomaly'] = model.fit_predict(df[['CO2_Emissions', 'Temperature_Anomaly']])\n",
        "\n",
        "# Scatter plot highlighting anomalies\n",
        "sns.scatterplot(x=df['CO2_Emissions'], y=df['Temperature_Anomaly'], hue=df['Anomaly'])\n",
        "plt.title(\"Anomalies in CO2 Emissions & Weather Patterns\")\n",
        "plt.show()"
      ],
      "metadata": {
        "id": "lNMQgyjY7Nao"
      },
      "execution_count": null,
      "outputs": []
    },
    {
      "cell_type": "markdown",
      "source": [
        "How does population growth influence greenhouse gas emissions over time?"
      ],
      "metadata": {
        "id": "KjZM37Ku7kIE"
      }
    },
    {
      "cell_type": "code",
      "source": [
        "fig, ax1 = plt.subplots(figsize=(10, 5))\n",
        "ax2 = ax1.twinx()\n",
        "\n",
        "ax1.plot(df['Year'], df['Population'], 'g-', label=\"Population\")\n",
        "ax2.plot(df['Year'], df['GHG_Emissions'], 'r-', label=\"GHG Emissions\")\n",
        "\n",
        "ax1.set_xlabel(\"Year\")\n",
        "ax1.set_ylabel(\"Population\", color='g')\n",
        "ax2.set_ylabel(\"GHG Emissions\", color='r')\n",
        "plt.title(\"Population Growth vs Greenhouse Gas Emissions\")\n",
        "plt.show()"
      ],
      "metadata": {
        "id": "vOb0Da9X7jvj"
      },
      "execution_count": null,
      "outputs": []
    }
  ]
}